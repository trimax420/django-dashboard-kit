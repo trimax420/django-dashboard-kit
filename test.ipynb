{
 "cells": [
  {
   "cell_type": "code",
   "execution_count": 1,
   "metadata": {},
   "outputs": [],
   "source": [
    "import pandas as pd"
   ]
  },
  {
   "cell_type": "code",
   "execution_count": null,
   "metadata": {},
   "outputs": [],
   "source": [
    "def process_excel():\n",
    "    ant_layout = pd.read_excel(\"/mnt/c/Users/Intelliod Master/Desktop/code/02-Apr-41Sites/PRPDX00053A.xlsx\", sheet_name=\"Antenna Layout\",index_col=0,header=None)\n",
    "    site_id = ant_layout.iloc[0,4]\n",
    "    scan_date = ant_layout.iloc[1,4]\n",
    "    mount_level = ant_layout.iloc[2,4]\n",
    "    report_version = ant_layout.iloc[1,11]\n",
    "\n",
    "    ant_layout_design = pd.read_excel(\"/mnt/c/Users/Intelliod Master/Desktop/code/02-Apr-41Sites/PRPDX00053A.xlsx\", sheet_name=\"Antenna Layout\",usecols='A:AA',header=32,index_col=None)\n",
    "    ant_layout_design = ant_layout_design.dropna(axis=1, how='all')\n",
    "    ant_layout_design = ant_layout_design.iloc[1:13,:]\n",
    "    ant_layout_design = ant_layout_design.dropna(axis = 0, how = 'all')\n",
    "\n",
    "    ant_layout_built = pd.read_excel(\"/mnt/c/Users/Intelliod Master/Desktop/code/02-Apr-41Sites/PRPDX00053A.xlsx\", sheet_name=\"Antenna Layout\",usecols='AE:BE',header=32,index_col=None)\n",
    "    ant_layout_built = ant_layout_built.dropna(axis=1, how='all')\n",
    "    ant_layout_built = ant_layout_built.iloc[1:13,:]\n",
    "    ant_layout_built = ant_layout_built.dropna(axis = 0, how = 'all')\n",
    "\n",
    "    ant_swing = pd.read_excel(\"/mnt/c/Users/Intelliod Master/Desktop/code/02-Apr-41Sites/PRPDX00053A.xlsx\", sheet_name=\"Antenna Swing\",usecols='Y:AU',header=5,index_col=None)\n",
    "    ant_swing = ant_swing.dropna(axis=1, how='all')\n",
    "    ant_swing = ant_swing.iloc[1:19,:]\n",
    "    ant_swing = ant_swing.drop(columns=['Unnamed: 44'])\n",
    "    ant_swing = ant_swing.dropna(axis = 0, how = 'all')\n",
    "\n",
    "    min_swing = pd.read_excel(\"/mnt/c/Users/Intelliod Master/Desktop/code/02-Apr-41Sites/PRPDX00053A.xlsx\", sheet_name=\"Antenna Swing\",usecols='Y:AU',header=24,index_col=None)\n",
    "    min_swing = min_swing.iloc[0,20]\n",
    "\n",
    "    sec_a = pd.read_excel(\"/mnt/c/Users/Intelliod Master/Desktop/code/02-Apr-41Sites/PRPDX00053A.xlsx\", sheet_name=\"Mounts\",usecols='AC:AP',header=24,index_col=None)\n",
    "    sec_a = sec_a.dropna(axis=1, how='all')\n",
    "    sec_a = sec_a.iloc[0:6,:]\n",
    "    sec_a = sec_a.dropna(axis = 0, how = 'all')\n",
    "    sec_a = sec_a.drop(columns=['Unnamed: 39'])\n",
    "\n",
    "    sec_b = pd.read_excel(\"/mnt/c/Users/Intelliod Master/Desktop/code/02-Apr-41Sites/PRPDX00053A.xlsx\", sheet_name=\"Mounts\",usecols='AC:AP',header=43,index_col=None)\n",
    "    sec_b = sec_b.dropna(axis=1, how='all')\n",
    "    sec_b = sec_b.iloc[0:6,:]\n",
    "    sec_b = sec_b.dropna(axis = 0, how = 'all')\n",
    "    sec_b = sec_b.drop(columns=['Unnamed: 39'])\n",
    "\n",
    "    sec_c = pd.read_excel(\"/mnt/c/Users/Intelliod Master/Desktop/code/02-Apr-41Sites/PRPDX00053A.xlsx\", sheet_name=\"Mounts\",usecols='AC:AP',header=63,index_col=None)\n",
    "    sec_c = sec_c.dropna(axis=1, how='all')\n",
    "    sec_c = sec_c.iloc[0:6,:]\n",
    "    sec_c = sec_c.dropna(axis = 0, how = 'all')\n",
    "    sec_c = sec_c.drop(columns=['Unnamed: 39'])\n",
    "\n",
    "    sec_a_dim = pd.read_excel(\"/mnt/c/Users/Intelliod Master/Desktop/code/02-Apr-41Sites/PRPDX00053A.xlsx\", sheet_name=\"Mounts\",usecols='AC:AF',header=32,index_col=None)\n",
    "    sec_a_dim = sec_a_dim.dropna(axis=1, how='all')\n",
    "    sec_a_dim = sec_a_dim.iloc[0:8,:]\n",
    "    sec_a_dim = sec_a_dim.dropna(axis = 0, how = 'all')\n",
    "\n",
    "    sec_b_dim = pd.read_excel(\"/mnt/c/Users/Intelliod Master/Desktop/code/02-Apr-41Sites/PRPDX00053A.xlsx\", sheet_name=\"Mounts\",usecols='AC:AF',header=51,index_col=None)\n",
    "    sec_b_dim = sec_b_dim.dropna(axis=1, how='all')\n",
    "    sec_b_dim = sec_b_dim.iloc[0:8,:]\n",
    "    sec_b_dim = sec_b_dim.dropna(axis = 0, how = 'all')\n",
    "\n",
    "    sec_c_dim = pd.read_excel(\"/mnt/c/Users/Intelliod Master/Desktop/code/02-Apr-41Sites/PRPDX00053A.xlsx\", sheet_name=\"Mounts\",usecols='AC:AF',header=71,index_col=None)\n",
    "    sec_c_dim = sec_c_dim.dropna(axis=1, how='all')\n",
    "    sec_c_dim = sec_c_dim.iloc[0:8,:]\n",
    "    sec_c_dim = sec_c_dim.dropna(axis = 0, how = 'all')\n",
    "\n",
    "    ant_mount = pd.read_excel(\"/mnt/c/Users/Intelliod Master/Desktop/code/02-Apr-41Sites/PRPDX00053A.xlsx\", sheet_name=\"Mounts\",usecols='AC:AP',header=5,index_col=None)\n",
    "    ant_mount = ant_mount.iloc[0:2,:]\n",
    "    ant_mount = ant_mount.dropna(axis=1, how='all')\n",
    "\n",
    "    return site_id,scan_date,mount_level,report_version,ant_layout_design,ant_layout_built,ant_swing,min_swing,sec_a,sec_b,sec_c,sec_a_dim,sec_b_dim,sec_c_dim,ant_mount\n"
   ]
  }
 ],
 "metadata": {
  "kernelspec": {
   "display_name": "dash",
   "language": "python",
   "name": "python3"
  },
  "language_info": {
   "codemirror_mode": {
    "name": "ipython",
    "version": 3
   },
   "file_extension": ".py",
   "mimetype": "text/x-python",
   "name": "python",
   "nbconvert_exporter": "python",
   "pygments_lexer": "ipython3",
   "version": "3.10.14"
  }
 },
 "nbformat": 4,
 "nbformat_minor": 2
}
